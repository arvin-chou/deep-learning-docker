{
 "cells": [
  {
   "cell_type": "markdown",
   "metadata": {},
   "source": [
    "# SSD300 Pascal VOC Evaluation\n",
    "### Reference: https://github.com/pierluigiferrari/ssd_keras/blob/master/ssd300_evaluation_Pascal_VOC.ipynb\n",
    "- Evaluate a trained SSD300 on Pascal VOC2007 test dataset using the official Matlab evaluation script that comes with the [VOCdevkit](http://host.robots.ox.ac.uk/pascal/VOC/voc2007/index.html)."
   ]
  },
  {
   "cell_type": "code",
   "execution_count": null,
   "metadata": {},
   "outputs": [],
   "source": [
    "from keras import backend as K\n",
    "from keras.models import load_model\n",
    "from keras.optimizers import Adam\n",
    "from scipy.misc import imread\n",
    "import numpy as np\n",
    "from matplotlib import pyplot as plt\n",
    "\n",
    "from keras_ssd300 import ssd_300\n",
    "from keras_ssd_loss import SSDLoss\n",
    "from keras_layer_AnchorBoxes import AnchorBoxes\n",
    "from keras_layer_L2Normalization import L2Normalization\n",
    "from ssd_box_encode_decode_utils import SSDBoxEncoder\n",
    "from ssd_batch_generator import BatchGenerator\n",
    "from pascal_voc_utils import predict_all_to_txt\n",
    "\n",
    "%matplotlib inline"
   ]
  },
  {
   "cell_type": "code",
   "execution_count": null,
   "metadata": {},
   "outputs": [],
   "source": [
    "# Set the input image size for the model.\n",
    "img_height = 300\n",
    "img_width = 300"
   ]
  },
  {
   "cell_type": "markdown",
   "metadata": {},
   "source": [
    "# 1. Load a trained SSD"
   ]
  },
  {
   "cell_type": "code",
   "execution_count": null,
   "metadata": {},
   "outputs": [],
   "source": [
    "model_path = 'model/ssd300_pascal_2012.h5'\n",
    "\n",
    "# We need to create an SSDLoss object in order to pass that to the model loader.\n",
    "ssd_loss = SSDLoss(neg_pos_ratio=3, n_neg_min=0, alpha=1.0)\n",
    "\n",
    "K.clear_session() # Clear previous models from memory.\n",
    "\n",
    "model = load_model(model_path, custom_objects={'AnchorBoxes': AnchorBoxes,\n",
    "                                               'L2Normalization': L2Normalization,\n",
    "                                               'compute_loss': ssd_loss.compute_loss})"
   ]
  },
  {
   "cell_type": "markdown",
   "metadata": {},
   "source": [
    "# 2. Create a data generator for the evaluation dataset"
   ]
  },
  {
   "cell_type": "code",
   "execution_count": null,
   "metadata": {},
   "outputs": [],
   "source": [
    "\n",
    "dataset = BatchGenerator(box_output_format=['class_id', 'xmin', 'ymin', 'xmax', 'ymax'])\n",
    "\n",
    "# TODO: Set the paths to the dataset here.\n",
    "VOC_2012_images_dir      = '/datasets/pascal_voc/VOCdevkit/VOC2012/JPEGImages/'\n",
    "VOC_2012_annotations_dir      = '/datasets/pascal_voc/VOCdevkit/VOC2012/Annotations/'\n",
    "VOC_2012_val_image_set_filename      = '/datasets/pascal_voc/VOCdevkit/VOC2012/ImageSets/Main/val.txt'\n",
    "\n",
    "# The XML parser needs to now what object class names to look for and in which order to map them to integers.\n",
    "classes = ['background',\n",
    "           'aeroplane', 'bicycle', 'bird', 'boat',\n",
    "           'bottle', 'bus', 'car', 'cat',\n",
    "           'chair', 'cow', 'diningtable', 'dog',\n",
    "           'horse', 'motorbike', 'person', 'pottedplant',\n",
    "           'sheep', 'sofa', 'train', 'tvmonitor']\n",
    "\n",
    "dataset.parse_xml(images_dirs=[VOC_2012_images_dir],\n",
    "                  image_set_filenames=[VOC_2012_val_image_set_filename],\n",
    "                  annotations_dirs=[VOC_2012_annotations_dir],\n",
    "                  classes=classes,\n",
    "                  include_classes='all',\n",
    "                  exclude_truncated=False,\n",
    "                  exclude_difficult=False,\n",
    "                  ret=False)"
   ]
  },
  {
   "cell_type": "markdown",
   "metadata": {},
   "source": [
    "# 3. Run the predictions over the evaluation dataset"
   ]
  },
  {
   "cell_type": "code",
   "execution_count": null,
   "metadata": {},
   "outputs": [],
   "source": [
    "# TODO: Set the batch size.\n",
    "batch_size = 8"
   ]
  },
  {
   "cell_type": "code",
   "execution_count": null,
   "metadata": {},
   "outputs": [],
   "source": [
    "predict_all_to_txt(model=model,\n",
    "                   img_height=img_height,\n",
    "                   img_width=img_width,\n",
    "                   batch_generator=dataset,\n",
    "                   batch_size=batch_size,\n",
    "                   batch_generator_mode='resize',\n",
    "                   classes=['background',\n",
    "                            'aeroplane', 'bicycle', 'bird', 'boat',\n",
    "                            'bottle', 'bus', 'car', 'cat',\n",
    "                            'chair', 'cow', 'diningtable', 'dog',\n",
    "                            'horse', 'motorbike', 'person', 'pottedplant',\n",
    "                            'sheep', 'sofa', 'train', 'tvmonitor'],\n",
    "                   out_file_prefix='comp3_det_test_',\n",
    "                   confidence_thresh=0.01,\n",
    "                   iou_threshold=0.45,\n",
    "                   top_k=200,\n",
    "                   pred_coords='centroids',\n",
    "                   normalize_coords=True)"
   ]
  },
  {
   "cell_type": "markdown",
   "metadata": {},
   "source": [
    "# 4. Run the evaluation\n",
    "Now that we've generated the results text files for each class in the right format, we still have to evaluate the results.\n",
    "\n",
    "This repository doesn't provide its own Pascal VOC mAP evaluation module at the moment, so you'll have to use the official Matlab evaluation script that comes with the VOCdevkit. Note that the mAP computation formula differs for VOC2007 and VOC2012, and the VOCdevkit for each of these years comes with its own evaluation script that you should use for the respective dataset."
   ]
  }
 ],
 "metadata": {
  "kernelspec": {
   "display_name": "Python 3",
   "language": "python",
   "name": "python3"
  },
  "language_info": {
   "codemirror_mode": {
    "name": "ipython",
    "version": 3
   },
   "file_extension": ".py",
   "mimetype": "text/x-python",
   "name": "python",
   "nbconvert_exporter": "python",
   "pygments_lexer": "ipython3",
   "version": "3.5.2"
  }
 },
 "nbformat": 4,
 "nbformat_minor": 2
}
